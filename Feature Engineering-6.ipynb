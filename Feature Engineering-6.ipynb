{
 "cells": [
  {
   "cell_type": "markdown",
   "id": "36e8257e",
   "metadata": {},
   "source": [
    "Q1. Pearson correlation coefficient is a measure of the linear relationship between two variables. Suppose\n",
    "you have collected data on the amount of time students spend studying for an exam and their final exam\n",
    "scores. Calculate the Pearson correlation coefficient between these two variables and interpret the result."
   ]
  },
  {
   "cell_type": "code",
   "execution_count": 1,
   "id": "ce45f72f",
   "metadata": {},
   "outputs": [
    {
     "name": "stdout",
     "output_type": "stream",
     "text": [
      "Pearson correlation coefficient: 0.9938837346736188\n",
      "p-value: 0.0005736731093322215\n"
     ]
    }
   ],
   "source": [
    "import scipy.stats as stats\n",
    "\n",
    "# Example data\n",
    "studying_time = [5, 10, 15, 20, 25]  # in hours\n",
    "exam_scores = [60, 70, 80, 90, 95]\n",
    "\n",
    "# Calculate the Pearson correlation coefficient and p-value\n",
    "correlation_coefficient, p_value = stats.pearsonr(studying_time, exam_scores)\n",
    "\n",
    "# Print the results\n",
    "print(\"Pearson correlation coefficient:\", correlation_coefficient)\n",
    "print(\"p-value:\", p_value)\n"
   ]
  },
  {
   "cell_type": "markdown",
   "id": "f7bbc29b",
   "metadata": {},
   "source": [
    "Q2. Spearman's rank correlation is a measure of the monotonic relationship between two variables.\n",
    "Suppose you have collected data on the amount of sleep individuals get each night and their overall job\n",
    "satisfaction level on a scale of 1 to 10. Calculate the Spearman's rank correlation between these two\n",
    "variables and interpret the result."
   ]
  },
  {
   "cell_type": "code",
   "execution_count": 2,
   "id": "c3c9f1d1",
   "metadata": {},
   "outputs": [
    {
     "name": "stdout",
     "output_type": "stream",
     "text": [
      "Spearman's rank correlation coefficient: 0.9746794344808963\n",
      "p-value: 0.004818230468198566\n"
     ]
    }
   ],
   "source": [
    "import scipy.stats as stats\n",
    "\n",
    "# Example data\n",
    "sleep_hours = [7, 6, 8, 5, 7]  # amount of sleep in hours\n",
    "job_satisfaction = [8, 6, 9, 4, 7]  # on a scale of 1 to 10\n",
    "\n",
    "# Calculate the Spearman's rank correlation coefficient and p-value\n",
    "correlation_coefficient, p_value = stats.spearmanr(sleep_hours, job_satisfaction)\n",
    "\n",
    "# Print the results\n",
    "print(\"Spearman's rank correlation coefficient:\", correlation_coefficient)\n",
    "print(\"p-value:\", p_value)\n"
   ]
  },
  {
   "cell_type": "markdown",
   "id": "0a996b67",
   "metadata": {},
   "source": [
    "Q3. Suppose you are conducting a study to examine the relationship between the number of hours of\n",
    "exercise per week and body mass index (BMI) in a sample of adults. You collected data on both variables\n",
    "for 50 participants. Calculate the Pearson correlation coefficient and the Spearman's rank correlation\n",
    "between these two variables and compare the results."
   ]
  },
  {
   "cell_type": "code",
   "execution_count": 3,
   "id": "fab0a0ef",
   "metadata": {},
   "outputs": [
    {
     "name": "stdout",
     "output_type": "stream",
     "text": [
      "Pearson correlation coefficient: -0.08951600262593574\n",
      "Pearson p-value: 0.5364388422697202\n",
      "Spearman's rank correlation coefficient: -0.07933021356404653\n",
      "Spearman's rank p-value: 0.5839490090184338\n"
     ]
    }
   ],
   "source": [
    "import scipy.stats as stats\n",
    "import numpy as np\n",
    "\n",
    "# Example data\n",
    "exercise_hours = np.array([3, 5, 4, 2, 6, 4, 3, 2, 5, 6, 1, 4, 3, 5, 2, 1, 6, 3, 4, 5,\n",
    "                          2, 1, 6, 4, 3, 2, 5, 6, 3, 4, 2, 5, 6, 1, 4, 3, 5, 2, 1, 6,\n",
    "                          4, 3, 2, 5, 6, 3, 4, 2, 5, 6])\n",
    "bmi = np.array([25.2, 23.5, 26.1, 24.9, 27.3, 25.8, 26.5, 24.2, 26.9, 25.1, 27.8, 24.6,\n",
    "                26.2, 23.9, 25.7, 27.4, 23.6, 25.9, 26.3, 23.4, 27.2, 24.8, 26.6, 23.7,\n",
    "                25.6, 26.4, 27.1, 23.8, 25.5, 26.7, 27.5, 23.3, 25.3, 26.8, 27.6, 23.2,\n",
    "                25.4, 27.0, 23.1, 25.0, 27.7, 27.9, 23.0, 25.3, 27.0, 27.6, 23.1, 25.4,\n",
    "                27.9, 27.7])\n",
    "\n",
    "# Calculate the Pearson correlation coefficient and p-value\n",
    "pearson_corr, pearson_pvalue = stats.pearsonr(exercise_hours, bmi)\n",
    "\n",
    "# Calculate the Spearman's rank correlation coefficient and p-value\n",
    "spearman_corr, spearman_pvalue = stats.spearmanr(exercise_hours, bmi)\n",
    "\n",
    "# Print the results\n",
    "print(\"Pearson correlation coefficient:\", pearson_corr)\n",
    "print(\"Pearson p-value:\", pearson_pvalue)\n",
    "print(\"Spearman's rank correlation coefficient:\", spearman_corr)\n",
    "print(\"Spearman's rank p-value:\", spearman_pvalue)\n"
   ]
  },
  {
   "cell_type": "markdown",
   "id": "5643b8cd",
   "metadata": {},
   "source": [
    "Q4. A researcher is interested in examining the relationship between the number of hours individuals\n",
    "spend watching television per day and their level of physical activity. The researcher collected data on\n",
    "both variables from a sample of 50 participants. Calculate the Pearson correlation coefficient between\n",
    "these two variables."
   ]
  },
  {
   "cell_type": "code",
   "execution_count": 8,
   "id": "88fab1dc",
   "metadata": {},
   "outputs": [
    {
     "name": "stdout",
     "output_type": "stream",
     "text": [
      "Pearson correlation coefficient: 0.08221083073205854\n",
      "Pearson p-value: 0.5703220023071792\n"
     ]
    }
   ],
   "source": [
    "import scipy.stats as stats\n",
    "import numpy as np\n",
    "\n",
    "# Example data\n",
    "tv_hours = np.array([4, 3, 2, 5, 6, 4, 3, 2, 5, 6, 3, 4, 2, 5, 6, 3, 4, 2, 5, 6,\n",
    "                     4, 3, 2, 5, 6, 3, 4, 2, 5, 6, 4, 3, 2, 5, 6, 3, 4, 2, 5, 6,\n",
    "                     4, 3, 2, 5, 6, 3, 4, 2, 5, 6])\n",
    "physical_activity = np.array([2, 3, 4, 2, 1, 1, 3, 4, 2, 5, 2, 3, 4, 2, 5, 2, 3, 4, 2, 5, 2,\n",
    "                              3, 4, 2, 5, 2, 3, 4, 2, 5, 2, 3, 4, 2, 5, 2, 3, 4, 2, 5, 2,\n",
    "                              3, 4, 2, 5, 2, 3, 4, 2, 5])\n",
    "\n",
    "# Calculate the Pearson correlation coefficient and p-value\n",
    "pearson_corr, pearson_pvalue = stats.pearsonr(tv_hours, physical_activity)\n",
    "\n",
    "# Print the result\n",
    "print(\"Pearson correlation coefficient:\", pearson_corr)\n",
    "print(\"Pearson p-value:\", pearson_pvalue)\n"
   ]
  },
  {
   "cell_type": "markdown",
   "id": "d80ce147",
   "metadata": {},
   "source": [
    "Q6. A company is interested in examining the relationship between the number of sales calls made per day\n",
    "and the number of sales made per week. The company collected data on both variables from a sample of\n",
    "30 sales representatives. Calculate the Pearson correlation coefficient between these two variables."
   ]
  },
  {
   "cell_type": "code",
   "execution_count": 9,
   "id": "afc92198",
   "metadata": {},
   "outputs": [
    {
     "name": "stdout",
     "output_type": "stream",
     "text": [
      "Pearson correlation coefficient: 0.9060893109068417\n",
      "Pearson p-value: 5.678376809007508e-12\n"
     ]
    }
   ],
   "source": [
    "import scipy.stats as stats\n",
    "import numpy as np\n",
    "\n",
    "# Example data\n",
    "sales_calls_per_day = np.array([25, 28, 32, 30, 29, 27, 26, 31, 33, 28, 30, 29, 27, 25, 26, 28, 27, 30, 31, 32, 29, 28, 26, 27, 28, 30, 31, 29, 27, 25])\n",
    "sales_per_week = np.array([10, 12, 14, 13, 11, 10, 12, 15, 16, 11, 14, 12, 10, 9, 11, 12, 10, 13, 15, 16, 12, 10, 9, 11, 12, 13, 14, 11, 10, 9])\n",
    "\n",
    "# Calculate the Pearson correlation coefficient and p-value\n",
    "pearson_corr, pearson_pvalue = stats.pearsonr(sales_calls_per_day, sales_per_week)\n",
    "\n",
    "# Print the result\n",
    "print(\"Pearson correlation coefficient:\", pearson_corr)\n",
    "print(\"Pearson p-value:\", pearson_pvalue)\n"
   ]
  },
  {
   "cell_type": "markdown",
   "id": "c82a4434",
   "metadata": {},
   "source": [
    "Q5. A survey was conducted to examine the relationship between age and preference for a particular\n",
    "brand of soft drink. The survey results are shown below:\n",
    "    \n",
    "    Age(Years)     Soft drink Preference \n",
    "       25              Mountain dew \n",
    "       42               Coke\n",
    "       37               Pepsi  \n",
    "       19               Coke \n",
    "       31               Pepsi   \n",
    "       28               Coke\n"
   ]
  },
  {
   "cell_type": "code",
   "execution_count": 10,
   "id": "422f038c",
   "metadata": {},
   "outputs": [
    {
     "name": "stdout",
     "output_type": "stream",
     "text": [
      "Pearson correlation coefficient: 0.4061210696871816\n",
      "Pearson p-value: 0.42431004736119166\n"
     ]
    }
   ],
   "source": [
    "import scipy.stats as stats\n",
    "\n",
    "# Age data\n",
    "age = [25, 42, 37, 19, 31, 28]\n",
    "\n",
    "# Soft drink preference data\n",
    "preference = [1, 2, 3, 2, 3, 2]  # Assign numeric values to the soft drink preferences (e.g., 1: Mountain Dew, 2: Coke, 3: Pepsi)\n",
    "\n",
    "# Calculate the Pearson correlation coefficient and p-value\n",
    "pearson_corr, pearson_pvalue = stats.pearsonr(age, preference)\n",
    "\n",
    "# Print the result\n",
    "print(\"Pearson correlation coefficient:\", pearson_corr)\n",
    "print(\"Pearson p-value:\", pearson_pvalue)\n"
   ]
  },
  {
   "cell_type": "code",
   "execution_count": null,
   "id": "8d95afb5",
   "metadata": {},
   "outputs": [],
   "source": []
  }
 ],
 "metadata": {
  "kernelspec": {
   "display_name": "Python 3 (ipykernel)",
   "language": "python",
   "name": "python3"
  },
  "language_info": {
   "codemirror_mode": {
    "name": "ipython",
    "version": 3
   },
   "file_extension": ".py",
   "mimetype": "text/x-python",
   "name": "python",
   "nbconvert_exporter": "python",
   "pygments_lexer": "ipython3",
   "version": "3.9.13"
  }
 },
 "nbformat": 4,
 "nbformat_minor": 5
}
