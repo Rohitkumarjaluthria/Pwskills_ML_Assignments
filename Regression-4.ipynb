{
 "cells": [
  {
   "cell_type": "markdown",
   "id": "df71ca4d",
   "metadata": {},
   "source": [
    "Q1. What is Lasso Regression, and how does it differ from other regression techniques?\n",
    "\n",
    "Lasso Regression, also known as L1 regularization, is a linear regression technique that adds a penalty term to the cost function to encourage sparse solutions. Unlike ordinary least squares regression, which minimizes the sum of squared residuals, Lasso Regression minimizes the sum of squared residuals plus the absolute value of the coefficients multiplied by a regularization parameter. This penalty term helps in feature selection by shrinking the coefficients of less important features to zero.\n",
    "\n",
    "Q2. What is the main advantage of using Lasso Regression in feature selection?\n",
    "\n",
    "The main advantage of using Lasso Regression in feature selection is its ability to automatically select the most relevant features and set the coefficients of irrelevant features to zero. This helps in reducing the complexity of the model and improving its interpretability.\n",
    "\n",
    "Q3. How do you interpret the coefficients of a Lasso Regression model?\n",
    "\n",
    "The coefficients of a Lasso Regression model can be interpreted as the impact of each feature on the target variable. A positive coefficient indicates a positive relationship, meaning an increase in the feature value leads to an increase in the target variable, and vice versa for a negative coefficient. The magnitude of the coefficient represents the strength of the relationship.\n",
    "\n",
    "Q4. What are the tuning parameters that can be adjusted in Lasso Regression, and how do they affect the\n",
    "model's performance?\n",
    "\n",
    "The tuning parameter in Lasso Regression is the regularization parameter, often denoted as lambda (λ). It controls the amount of regularization applied to the coefficients. Increasing the value of lambda increases the amount of shrinkage applied to the coefficients, leading to more coefficients being set to zero and stronger regularization. The choice of lambda affects the trade-off between model complexity and model performance.\n",
    "\n",
    "Q5. Can Lasso Regression be used for non-linear regression problems? If yes, how?\n",
    "\n",
    "Lasso Regression can be used for non-linear regression problems by incorporating polynomial features or using other non-linear transformations of the input features. By introducing non-linear terms, Lasso Regression can capture non-linear relationships between the features and the target variable. However, it is important to note that Lasso Regression itself is a linear regression technique and does not inherently capture non-linear relationships.\n",
    "\n",
    "Q6. What is the difference between Ridge Regression and Lasso Regression?\n",
    "\n",
    "The main difference between Ridge Regression and Lasso Regression lies in the type of regularization they apply. Ridge Regression uses L2 regularization, which adds the sum of squared coefficients multiplied by a regularization parameter to the cost function. Lasso Regression, on the other hand, uses L1 regularization, which adds the sum of absolute values of the coefficients multiplied by a regularization parameter to the cost function. This difference in regularization leads to different behaviors in terms of feature selection. Ridge Regression tends to shrink the coefficients towards zero, but does not set them exactly to zero, while Lasso Regression can set coefficients to exactly zero, effectively performing feature selection.\n",
    "\n",
    "Q7. Can Lasso Regression handle multicollinearity in the input features? If yes, how?\n",
    "\n",
    "Yes, Lasso Regression can handle multicollinearity in the input features. In the presence of multicollinearity, Lasso Regression tends to select one feature from a group of highly correlated features and set the coefficients of the other correlated features to zero. This helps in reducing the impact of multicollinearity on the model and improving its interpretability.\n",
    "\n",
    "Q8. How do you choose the optimal value of the regularization parameter (lambda) in Lasso Regression?\n",
    "\n",
    "The optimal value of the regularization parameter (lambda) in Lasso Regression can be chosen using techniques such as cross-validation or grid search. Cross-validation involves splitting the data into training and validation sets and evaluating the model's performance with different values of lambda. The value of lambda that results in the best performance on the validation set is chosen as the optimal value. Grid search involves systematically trying different values of lambda and evaluating the model's performance to find the best value. The choice of the optimal lambda depends on the specific dataset and the trade-off between model complexity and performance."
   ]
  },
  {
   "cell_type": "code",
   "execution_count": null,
   "id": "a059f3ca",
   "metadata": {},
   "outputs": [],
   "source": []
  }
 ],
 "metadata": {
  "kernelspec": {
   "display_name": "Python 3 (ipykernel)",
   "language": "python",
   "name": "python3"
  },
  "language_info": {
   "codemirror_mode": {
    "name": "ipython",
    "version": 3
   },
   "file_extension": ".py",
   "mimetype": "text/x-python",
   "name": "python",
   "nbconvert_exporter": "python",
   "pygments_lexer": "ipython3",
   "version": "3.9.13"
  }
 },
 "nbformat": 4,
 "nbformat_minor": 5
}
