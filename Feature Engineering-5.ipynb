{
 "cells": [
  {
   "cell_type": "markdown",
   "id": "daf69622",
   "metadata": {},
   "source": [
    "Q1. What is the difference between Ordinal Encoding and Label Encoding? Provide an example of when you\n",
    "might choose one over the other.\n",
    "\n",
    "The difference between Ordinal Encoding and Label Encoding lies in the way they handle categorical variables.\n",
    "\n",
    "Ordinal Encoding: In Ordinal Encoding, each unique category is assigned a numerical value based on its rank or order. The assigned numerical values carry information about the order or hierarchy of the categories. For example, if we have a categorical variable \"Size\" with categories ['Small', 'Medium', 'Large'], we could assign the values [1, 2, 3] respectively. Ordinal Encoding is useful when there is a natural order or ranking among the categories, and this order is important for the analysis.\n",
    "\n",
    "Label Encoding: In Label Encoding, each unique category is assigned a distinct numerical value without considering any order or hierarchy. Each category is simply assigned a numerical label. For example, if we have a categorical variable \"Color\" with categories ['Red', 'Green', 'Blue'], we could assign the values [1, 2, 3] respectively. Label Encoding is useful when there is no inherent order or ranking among the categories, and each category is treated as a separate entity.\n",
    "\n",
    "Q2. Explain how Target Guided Ordinal Encoding works and provide an example of when you might use it in a machine learning project.\n",
    "\n",
    "Target Guided Ordinal Encoding is a technique that assigns numerical values to categories based on their relationship with the target variable. It takes into account the target variable's distribution within each category and assigns values accordingly. For example, in a binary classification problem, for each category, the mean target value of the samples falling into that category is calculated. The categories are then ordered based on these mean target values, and numerical labels are assigned in ascending or descending order.\n",
    "\n",
    "Target Guided Ordinal Encoding is useful when there is a correlation or relationship between the categories and the target variable. It helps capture the information about the target variable within the encoding, which can potentially improve the predictive power of the model. This technique is commonly used in classification problems where the target variable has imbalanced classes or where the relationship between the categories and the target variable is important.\n",
    "\n",
    "For example, in a customer churn prediction project, if we have a categorical feature \"Payment Method\" and the target variable is \"Churn\" (whether a customer churned or not), we can calculate the mean churn rate for each payment method category. We can then assign numerical labels based on the descending order of the mean churn rates, indicating the likelihood of churn for each payment method category.\n",
    "\n",
    "Q3. Define covariance and explain why it is important in statistical analysis. How is covariance calculated?\n",
    "\n",
    "Covariance is a statistical measure that describes the relationship between two variables. It indicates how changes in one variable are associated with changes in another variable. Covariance is important in statistical analysis as it helps understand the direction and strength of the relationship between variables.\n",
    "\n",
    "The covariance between two variables, X and Y, is calculated as the average of the products of the deviations from their respective means. It can be positive, indicating a direct relationship where both variables increase or decrease together, or negative, indicating an inverse relationship where one variable increases while the other decreases.\n",
    "\n",
    "Covariance is calculated using the formula:\n",
    "\n",
    "Cov(X, Y) = Σ[(X - X_mean) * (Y - Y_mean)] / (n - 1)\n",
    "\n",
    "where X and Y are the variables, X_mean and Y_mean are their respective means, and n is the number of data points.\n"
   ]
  },
  {
   "cell_type": "markdown",
   "id": "03954255",
   "metadata": {},
   "source": [
    "Q4. For a dataset with the following categorical variables: Color (red, green, blue), Size (small, medium,\n",
    "large), and Material (wood, metal, plastic), perform label encoding using Python's scikit-learn library.\n",
    "Show your code and explain the output.\n"
   ]
  },
  {
   "cell_type": "code",
   "execution_count": 2,
   "id": "8828d6c5",
   "metadata": {},
   "outputs": [
    {
     "name": "stdout",
     "output_type": "stream",
     "text": [
      "[6 1 0 7 3 2 8 4 5]\n"
     ]
    }
   ],
   "source": [
    "from sklearn.preprocessing import LabelEncoder\n",
    "\n",
    "# Sample dataset\n",
    "data = ['red', 'green', 'blue', 'small', 'medium', 'large', 'wood', 'metal', 'plastic']\n",
    "\n",
    "# Initialize LabelEncoder\n",
    "label_encoder = LabelEncoder()\n",
    "\n",
    "# Fit and transform the data using label encoding\n",
    "encoded_data = label_encoder.fit_transform(data)\n",
    "\n",
    "# Print the encoded data\n",
    "print(encoded_data)\n"
   ]
  },
  {
   "cell_type": "markdown",
   "id": "3d72573d",
   "metadata": {},
   "source": [
    "Q5. Calculate the covariance matrix for the following variables in a dataset: Age, Income, and Education\n",
    "level. Interpret the results."
   ]
  },
  {
   "cell_type": "code",
   "execution_count": 8,
   "id": "37f2dea2",
   "metadata": {},
   "outputs": [
    {
     "name": "stdout",
     "output_type": "stream",
     "text": [
      "[[6.250e+01 9.375e+02 2.500e+01]\n",
      " [9.375e+02 1.450e+04 3.750e+02]\n",
      " [2.500e+01 3.750e+02 1.000e+01]]\n"
     ]
    }
   ],
   "source": [
    "import numpy as np\n",
    "\n",
    "# Sample dataset\n",
    "age = [30, 40, 35, 45, 50]\n",
    "income = [500, 600, 550, 700, 800]\n",
    "education_level = [12, 16, 14, 18, 20]\n",
    "\n",
    "# Create the covariance matrix\n",
    "data = np.array([age, income, education_level])\n",
    "covariance_matrix = np.cov(data)\n",
    "\n",
    "# Print the covariance matrix\n",
    "print((covariance_matrix))\n"
   ]
  },
  {
   "cell_type": "markdown",
   "id": "f2a5dc7c",
   "metadata": {},
   "source": [
    "Q6. You are working on a machine learning project with a dataset containing several categorical\n",
    "variables, including \"Gender\" (Male/Female), \"Education Level\" (High School/Bachelor's/Master's/PhD),\n",
    "and \"Employment Status\" (Unemployed/Part-Time/Full-Time). Which encoding method would you use for\n",
    "each variable, and why?\n",
    "\n",
    "For the given dataset with categorical variables \"Gender\", \"Education Level\", and \"Employment Status,\" the appropriate encoding methods would be as follows:\n",
    "\n",
    "\"Gender\" (Male/Female): This is a binary categorical variable, so label encoding or binary encoding can be used. Label encoding assigns numerical labels to the categories (e.g., Male = 0, Female = 1), while binary encoding converts each category into binary digits (e.g., Male = 0, Female = 1 becomes 00 and 01). The choice between these methods depends on the specific requirements of the machine learning algorithm and the nature of the data.\n",
    "\n",
    "\"Education Level\" (High School/Bachelor's/Master's/PhD): This is an ordinal categorical variable with inherent ordering. Ordinal encoding can be used, where each category is assigned a numerical label based on its order (e.g., High School = 0, Bachelor's = 1, Master's = 2, PhD = 3). This encoding method preserves the ordinal relationship between the categories.\n",
    "\n",
    "\"Employment Status\" (Unemployed/Part-Time/Full-Time): This is a nominal categorical variable with no inherent ordering. One-hot encoding is suitable for this variable, where each category is represented by a binary column (e.g., Unemployed = [1, 0, 0], Part-Time = [0, 1, 0], Full-Time = [0, 0, 1]). One-hot encoding ensures that the model does not assume any ordinal relationship among the categories.\n",
    "\n",
    "Q7. You are analyzing a dataset with two continuous variables, \"Temperature\" and \"Humidity\", and two\n",
    "categorical variables, \"Weather Condition\" (Sunny/Cloudy/Rainy) and \"Wind Direction\" (North/South/\n",
    "East/West). Calculate the covariance between each pair of variables and interpret the results."
   ]
  },
  {
   "cell_type": "code",
   "execution_count": 9,
   "id": "56dc983a",
   "metadata": {},
   "outputs": [
    {
     "name": "stdout",
     "output_type": "stream",
     "text": [
      "[[ 17.   -17.5   -0.5   -1.  ]\n",
      " [-17.5   62.5    3.75   7.5 ]\n",
      " [ -0.5    3.75   0.7    0.35]\n",
      " [ -1.     7.5    0.35   1.3 ]]\n"
     ]
    }
   ],
   "source": [
    "import numpy as np\n",
    "\n",
    "# Sample dataset\n",
    "temperature = [25, 30, 28, 20, 22]\n",
    "humidity = [60, 50, 65, 70, 55]\n",
    "weather_condition = [0, 1, 1, 2, 0]\n",
    "wind_direction = [1, 0, 3, 2, 1]\n",
    "\n",
    "# Create the data array\n",
    "data = np.array([temperature, humidity, weather_condition, wind_direction])\n",
    "\n",
    "# Calculate the covariance matrix\n",
    "covariance_matrix = np.cov(data)\n",
    "\n",
    "# Print the covariance matrix\n",
    "print(covariance_matrix)\n"
   ]
  },
  {
   "cell_type": "code",
   "execution_count": null,
   "id": "47519e88",
   "metadata": {},
   "outputs": [],
   "source": []
  }
 ],
 "metadata": {
  "kernelspec": {
   "display_name": "Python 3 (ipykernel)",
   "language": "python",
   "name": "python3"
  },
  "language_info": {
   "codemirror_mode": {
    "name": "ipython",
    "version": 3
   },
   "file_extension": ".py",
   "mimetype": "text/x-python",
   "name": "python",
   "nbconvert_exporter": "python",
   "pygments_lexer": "ipython3",
   "version": "3.9.13"
  }
 },
 "nbformat": 4,
 "nbformat_minor": 5
}
